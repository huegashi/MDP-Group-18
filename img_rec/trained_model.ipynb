{
 "cells": [
  {
   "cell_type": "markdown",
   "id": "587b0a91",
   "metadata": {},
   "source": [
    "# Step 1: Install Requirements"
   ]
  },
  {
   "cell_type": "code",
   "execution_count": 12,
   "id": "4d21c2a4",
   "metadata": {},
   "outputs": [
    {
     "name": "stdout",
     "output_type": "stream",
     "text": [
      "[WinError 2] The system cannot find the file specified: 'yolov5'\n",
      "c:\\Users\\gauth\\OneDrive - Nanyang Technological University\\Documents\\SC2079\\yolov5\n",
      "Note: you may need to restart the kernel to use updated packages.\n"
     ]
    },
    {
     "name": "stderr",
     "output_type": "stream",
     "text": [
      "ERROR: Invalid requirement: 'torch 2.8.0': Expected end or semicolon (after name and no valid version specifier)\n",
      "    torch 2.8.0\n",
      "          ^ (from line 15 of requirements.txt)\n"
     ]
    }
   ],
   "source": [
    "%cd yolov5\n",
    "%pip install -qr requirements.txt"
   ]
  },
  {
   "cell_type": "code",
   "execution_count": 4,
   "id": "d6ddd842",
   "metadata": {},
   "outputs": [
    {
     "name": "stdout",
     "output_type": "stream",
     "text": [
      "Setup complete. Using torch 2.8.0+cu129 (NVIDIA GeForce RTX 5070 Laptop GPU)\n"
     ]
    }
   ],
   "source": [
    "import torch\n",
    "import os\n",
    "from IPython.display import Image, clear_output  # to display images\n",
    "\n",
    "print(f\"Setup complete. Using torch {torch.__version__} ({torch.cuda.get_device_properties(0).name if torch.cuda.is_available() else 'CPU'})\")\n",
    "     "
   ]
  },
  {
   "cell_type": "markdown",
   "id": "3911063c",
   "metadata": {},
   "source": [
    "# Step 2: Assembling Dataset"
   ]
  },
  {
   "cell_type": "code",
   "execution_count": null,
   "id": "ed37b221",
   "metadata": {},
   "outputs": [],
   "source": [
    "data_path = r\"C:\\Users\\gauth\\OneDrive - Nanyang Technological University\\Documents\\SC2079\""
   ]
  },
  {
   "cell_type": "code",
   "execution_count": 9,
   "id": "ee0a352c",
   "metadata": {},
   "outputs": [
    {
     "name": "stdout",
     "output_type": "stream",
     "text": [
      "Model copied as best.pt\n"
     ]
    }
   ],
   "source": [
    "import shutil\n",
    "\n",
    "# source and destination\n",
    "src = r\"C:\\Users\\gauth\\Downloads\\YOLOv5_FullPretraining.pt\"\n",
    "dst = r\"C:\\Users\\gauth\\OneDrive - Nanyang Technological University\\Documents\\SC2079\\yolov5\\best.pt\"   # put inside your yolov5 folder\n",
    "\n",
    "shutil.copy(src, dst)\n",
    "print(\"Model copied as best.pt\")"
   ]
  },
  {
   "cell_type": "code",
   "execution_count": 7,
   "id": "f97225bf",
   "metadata": {},
   "outputs": [
    {
     "name": "stdout",
     "output_type": "stream",
     "text": [
      "Dataset extracted to: C:\\Users\\gauth\\OneDrive - Nanyang Technological University\\Documents\\SC2079\\yolov5\\Week8\n"
     ]
    }
   ],
   "source": [
    "import zipfile\n",
    "import os\n",
    "\n",
    "src = r\"C:\\Users\\gauth\\Downloads\\Week8.zip\"\n",
    "dst = r\"C:\\Users\\gauth\\OneDrive - Nanyang Technological University\\Documents\\SC2079\\yolov5\\Week8\"   # destination folder\n",
    "\n",
    "# create destination if not exists\n",
    "os.makedirs(dst, exist_ok=True)\n",
    "\n",
    "with zipfile.ZipFile(src, 'r') as zip_ref:\n",
    "    zip_ref.extractall(dst)\n",
    "\n",
    "print(\"Dataset extracted to:\", dst)"
   ]
  },
  {
   "cell_type": "markdown",
   "id": "9e1fea17",
   "metadata": {},
   "source": [
    "# Step 3: Train Custom YOLOv5 model"
   ]
  },
  {
   "cell_type": "code",
   "execution_count": 10,
   "id": "85f96f31",
   "metadata": {},
   "outputs": [
    {
     "name": "stdout",
     "output_type": "stream",
     "text": [
      "Thu Aug 28 21:07:21 2025       \n",
      "+-----------------------------------------------------------------------------------------+\n",
      "| NVIDIA-SMI 573.24                 Driver Version: 573.24         CUDA Version: 12.8     |\n",
      "|-----------------------------------------+------------------------+----------------------+\n",
      "| GPU  Name                  Driver-Model | Bus-Id          Disp.A | Volatile Uncorr. ECC |\n",
      "| Fan  Temp   Perf          Pwr:Usage/Cap |           Memory-Usage | GPU-Util  Compute M. |\n",
      "|                                         |                        |               MIG M. |\n",
      "|=========================================+========================+======================|\n",
      "|   0  NVIDIA GeForce RTX 5070 ...  WDDM  |   00000000:01:00.0 Off |                  N/A |\n",
      "| N/A   57C    P0             13W /   65W |       0MiB /   8151MiB |      0%      Default |\n",
      "|                                         |                        |                  N/A |\n",
      "+-----------------------------------------+------------------------+----------------------+\n",
      "                                                                                         \n",
      "+-----------------------------------------------------------------------------------------+\n",
      "| Processes:                                                                              |\n",
      "|  GPU   GI   CI              PID   Type   Process name                        GPU Memory |\n",
      "|        ID   ID                                                               Usage      |\n",
      "|=========================================================================================|\n",
      "|  No running processes found                                                             |\n",
      "+-----------------------------------------------------------------------------------------+\n"
     ]
    }
   ],
   "source": [
    "!nvidia-smi"
   ]
  },
  {
   "cell_type": "code",
   "execution_count": 11,
   "id": "ef23427d",
   "metadata": {},
   "outputs": [
    {
     "name": "stderr",
     "output_type": "stream",
     "text": [
      "\u001b[34m\u001b[1msegment\\predict: \u001b[0mweights=['yolov5s-seg.pt'], source=data/images, data=data\\coco128.yaml, imgsz=[640, 640], conf_thres=0.25, iou_thres=0.45, max_det=1000, device=, view_img=False, save_txt=False, save_conf=False, save_crop=False, nosave=False, classes=None, agnostic_nms=False, augment=False, visualize=False, update=False, project=runs\\predict-seg, name=exp, exist_ok=False, line_thickness=3, hide_labels=False, hide_conf=False, half=False, dnn=False, vid_stride=1, retina_masks=False\n",
      "unknown option: -\n",
      "usage: git [-v | --version] [-h | --help] [-C <path>] [-c <name>=<value>]\n",
      "           [--exec-path[=<path>]] [--html-path] [--man-path] [--info-path]\n",
      "           [-p | --paginate | -P | --no-pager] [--no-replace-objects] [--no-lazy-fetch]\n",
      "           [--no-optional-locks] [--no-advice] [--bare] [--git-dir=<path>]\n",
      "           [--work-tree=<path>] [--namespace=<name>] [--config-env=<name>=<envvar>]\n",
      "           <command> [<args>]\n",
      "YOLOv5  2025-8-28 Python-3.11.9 torch-2.8.0+cu129 CUDA:0 (NVIDIA GeForce RTX 5070 Laptop GPU, 8151MiB)\n",
      "\n",
      "Downloading https://github.com/ultralytics/yolov5/releases/download/v7.0/yolov5s-seg.pt to yolov5s-seg.pt...\n",
      "\n",
      "  0%|          | 0.00/14.9M [00:00<?, ?B/s]\n",
      "  6%|▌         | 896k/14.9M [00:00<00:01, 8.25MB/s]\n",
      " 12%|█▏        | 1.75M/14.9M [00:00<00:01, 7.96MB/s]\n",
      " 18%|█▊        | 2.62M/14.9M [00:00<00:01, 8.18MB/s]\n",
      " 24%|██▎       | 3.50M/14.9M [00:00<00:01, 8.25MB/s]\n",
      " 37%|███▋      | 5.50M/14.9M [00:00<00:00, 12.3MB/s]\n",
      " 49%|████▉     | 7.25M/14.9M [00:00<00:00, 13.8MB/s]\n",
      " 59%|█████▉    | 8.75M/14.9M [00:00<00:00, 13.9MB/s]\n",
      " 68%|██████▊   | 10.1M/14.9M [00:01<00:00, 8.95MB/s]\n",
      " 79%|███████▉  | 11.8M/14.9M [00:01<00:00, 8.54MB/s]\n",
      " 92%|█████████▏| 13.8M/14.9M [00:01<00:00, 10.8MB/s]\n",
      "100%|██████████| 14.9M/14.9M [00:01<00:00, 10.2MB/s]\n",
      "\n",
      "Fusing layers... \n",
      "YOLOv5s-seg summary: 224 layers, 7611485 parameters, 0 gradients, 26.4 GFLOPs\n",
      "Traceback (most recent call last):\n",
      "  File \"c:\\Users\\gauth\\OneDrive - Nanyang Technological University\\Documents\\SC2079\\yolov5\\segment\\predict.py\", line 307, in <module>\n",
      "    main(opt)\n",
      "  File \"c:\\Users\\gauth\\OneDrive - Nanyang Technological University\\Documents\\SC2079\\yolov5\\segment\\predict.py\", line 302, in main\n",
      "    run(**vars(opt))\n",
      "  File \"c:\\Users\\gauth\\AppData\\Local\\Programs\\Python\\Python311\\Lib\\site-packages\\torch\\utils\\_contextlib.py\", line 120, in decorate_context\n",
      "    return func(*args, **kwargs)\n",
      "           ^^^^^^^^^^^^^^^^^^^^^\n",
      "  File \"c:\\Users\\gauth\\OneDrive - Nanyang Technological University\\Documents\\SC2079\\yolov5\\segment\\predict.py\", line 150, in run\n",
      "    pred = non_max_suppression(pred, conf_thres, iou_thres, classes, agnostic_nms, max_det=max_det, nm=32)\n",
      "           ^^^^^^^^^^^^^^^^^^^^^^^^^^^^^^^^^^^^^^^^^^^^^^^^^^^^^^^^^^^^^^^^^^^^^^^^^^^^^^^^^^^^^^^^^^^^^^^\n",
      "  File \"C:\\Users\\gauth\\OneDrive - Nanyang Technological University\\Documents\\SC2079\\yolov5\\utils\\general.py\", line 1104, in non_max_suppression\n",
      "    i = torchvision.ops.nms(boxes, scores, iou_thres)  # NMS\n",
      "        ^^^^^^^^^^^^^^^^^^^^^^^^^^^^^^^^^^^^^^^^^^^^^\n",
      "  File \"c:\\Users\\gauth\\AppData\\Local\\Programs\\Python\\Python311\\Lib\\site-packages\\torchvision\\ops\\boxes.py\", line 48, in nms\n",
      "    return torch.ops.torchvision.nms(boxes, scores, iou_threshold)\n",
      "           ^^^^^^^^^^^^^^^^^^^^^^^^^^^^^^^^^^^^^^^^^^^^^^^^^^^^^^^\n",
      "  File \"c:\\Users\\gauth\\AppData\\Local\\Programs\\Python\\Python311\\Lib\\site-packages\\torch\\_ops.py\", line 1243, in __call__\n",
      "    return self._op(*args, **kwargs)\n",
      "           ^^^^^^^^^^^^^^^^^^^^^^^^^\n",
      "torch.AcceleratorError: CUDA error: the provided PTX was compiled with an unsupported toolchain.\n",
      "CUDA kernel errors might be asynchronously reported at some other API call, so the stacktrace below might be incorrect.\n",
      "For debugging consider passing CUDA_LAUNCH_BLOCKING=1\n",
      "Compile with `TORCH_USE_CUDA_DSA` to enable device-side assertions.\n",
      "\n"
     ]
    }
   ],
   "source": [
    "!python segment/predict.py --weights yolov5s-seg.pt --img 640 --conf 0.25 --source data/images"
   ]
  }
 ],
 "metadata": {
  "kernelspec": {
   "display_name": "Python 3",
   "language": "python",
   "name": "python3"
  },
  "language_info": {
   "codemirror_mode": {
    "name": "ipython",
    "version": 3
   },
   "file_extension": ".py",
   "mimetype": "text/x-python",
   "name": "python",
   "nbconvert_exporter": "python",
   "pygments_lexer": "ipython3",
   "version": "3.11.9"
  }
 },
 "nbformat": 4,
 "nbformat_minor": 5
}
